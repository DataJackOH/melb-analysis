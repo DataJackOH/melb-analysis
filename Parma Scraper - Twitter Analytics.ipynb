{
 "cells": [
  {
   "cell_type": "markdown",
   "metadata": {},
   "source": [
    "Code to return Tweets with the word 'Parma' within 100km's of Melbourne from twitter via their API."
   ]
  },
  {
   "cell_type": "code",
   "execution_count": 76,
   "metadata": {},
   "outputs": [],
   "source": [
    "# Pip install GetOldTweets3 if you don't already have the package\n",
    "#!pip install GetOldTweets3\n",
    "\n",
    "# Imports\n",
    "import GetOldTweets3 as got\n"
   ]
  },
  {
   "cell_type": "code",
   "execution_count": 77,
   "metadata": {},
   "outputs": [],
   "source": [
    "import re\n",
    "import io\n",
    "import csv\n",
    "import tweepy\n",
    "from tweepy import OAuthHandler\n",
    "import pandas as pd \n",
    "#TextBlob perform simple natural language processing tasks.\n",
    "#from textblob import TextBlob\n"
   ]
  },
  {
   "cell_type": "code",
   "execution_count": 78,
   "metadata": {},
   "outputs": [],
   "source": [
    "#get credentials\n",
    "creds = pd.read_csv('/Users/jacksmac/twittercreds.csv')"
   ]
  },
  {
   "cell_type": "code",
   "execution_count": 79,
   "metadata": {},
   "outputs": [],
   "source": [
    "consumer_key = creds.consumer_key[0]\n",
    "consumer_secret = creds.consumer_secret[0]\n",
    "access_token = creds.access_token[0]\n",
    "access_token_secret = creds.access_token_secret[0]\n",
    "# create OAuthHandler object\n",
    "auth = tweepy.OAuthHandler(consumer_key, consumer_secret)\n",
    "# set access token and secret\n",
    "auth.set_access_token(access_token, access_token_secret)\n",
    "# create tweepy API object to fetch tweets\n",
    "api = tweepy.API(auth)\n",
    "\n",
    "\n"
   ]
  },
  {
   "cell_type": "code",
   "execution_count": 81,
   "metadata": {},
   "outputs": [],
   "source": [
    "# Function created to extract coordinates from tweet if it has coordinate info\n",
    "# Tweets tend to have null so important to run check\n",
    "# Make sure to run this cell as it is used in a lot of different functions below\n",
    "def extract_coordinates(row):\n",
    "    if row['Tweet Coordinates']:\n",
    "        return row['Tweet Coordinates']['coordinates']\n",
    "    else:\n",
    "        return None\n",
    "\n",
    "# Function created to extract place such as city, state or country from tweet if it has place info\n",
    "# Tweets tend to have null so important to run check\n",
    "# Make sure to run this cell as it is used in a lot of different functions below\n",
    "def extract_place(row):\n",
    "    if row['Place Info']:\n",
    "        return row['Place Info'].full_name\n",
    "    else:\n",
    "        return None\n",
    "    \n"
   ]
  },
  {
   "cell_type": "code",
   "execution_count": 82,
   "metadata": {},
   "outputs": [],
   "source": [
    "##function to scrape text from twitter and export csv with tweets\n",
    "##default values are tweets 100km around melbourne\n",
    "##with the word Parma\n",
    "##excluding retweets\n",
    "\n",
    "def scrape_text_query( max_tweets,latitude_radius=\"-37.840935,144.946457,100km\",text_query='parma -filter:retweets'):\n",
    "    # Creation of query method using parameters\n",
    "    #define place\n",
    "    tweets = tweepy.Cursor(api.search,geocode=latitude_radius, q=text_query , lang='en',tweet_mode='extended').items(max_tweets)\n",
    "\n",
    "    # List comprehension pulling chosen tweet information from tweets iterable object\n",
    "    # Add or remove tweet information you want in the below list comprehension\n",
    "    tweets_list = [[tweet.full_text, tweet.created_at, tweet.id_str, tweet.user.screen_name, tweet.coordinates,\n",
    "               tweet.place, tweet.retweet_count, tweet.favorite_count, tweet.lang,\n",
    "               tweet.source, tweet.in_reply_to_status_id_str, \n",
    "                tweet.in_reply_to_user_id_str, tweet.is_quote_status,\n",
    "                ] for tweet in tweets]\n",
    "\n",
    "    # Creation of dataframe from tweets_list\n",
    "    # Add or remove columns as you remove tweet information\n",
    "    tweets_df = pd.DataFrame(tweets_list,columns=['Tweet Text', 'Tweet Datetime', 'Tweet Id', 'Twitter @ Name', 'Tweet Coordinates', 'Place Info',\n",
    "                                                 'Retweets', 'Favorites', 'Language', 'Source', 'Replied Tweet Id',\n",
    "                                                  'Replied Tweet User Id Str', 'Quote Status Bool'])\n",
    "\n",
    "    # Checks if there are coordinates attached to tweets, if so extracts them\n",
    "    tweets_df['Tweet Coordinates'] = tweets_df.apply(extract_coordinates,axis=1)\n",
    "    \n",
    "    # Checks if there is place information available, if so extracts them\n",
    "    tweets_df['Place Info'] = tweets_df.apply(extract_place,axis=1)\n",
    "\n",
    "    # Uncomment/comment below lines to decide between creating csv or excel file \n",
    "    tweets_df.to_csv('{}-tweets.csv'.format(text_query), sep=',', index = False)"
   ]
  },
  {
   "cell_type": "code",
   "execution_count": 83,
   "metadata": {},
   "outputs": [],
   "source": [
    "# Input search query to scrape tweets and name csv file\n",
    "query = 'fire -filter:retweets'\n",
    "\n",
    "##latitude,radius, distance\n",
    "##melbourne, 1000km\n",
    "lat_r = \"-37.840935,144.946457,1000km\"\n",
    "\n",
    "# Max recent tweets pulls x amount of most recent tweets \n",
    "tweets = 150\n",
    "\n",
    "# Function scrapes for tweets containing text_query, attempting to pull max_tweet amount and create csv/excel file containing data.\n",
    "scrape_text_query(text_query=query,latitude_radius=lat_r, max_tweets=tweets)"
   ]
  },
  {
   "cell_type": "code",
   "execution_count": 84,
   "metadata": {},
   "outputs": [],
   "source": [
    "##default test\n",
    "tweets = 200\n",
    "scrape_text_query(max_tweets=tweets)"
   ]
  },
  {
   "cell_type": "code",
   "execution_count": null,
   "metadata": {},
   "outputs": [],
   "source": []
  }
 ],
 "metadata": {
  "kernelspec": {
   "display_name": "Python 3",
   "language": "python",
   "name": "python3"
  },
  "language_info": {
   "codemirror_mode": {
    "name": "ipython",
    "version": 3
   },
   "file_extension": ".py",
   "mimetype": "text/x-python",
   "name": "python",
   "nbconvert_exporter": "python",
   "pygments_lexer": "ipython3",
   "version": "3.7.4"
  }
 },
 "nbformat": 4,
 "nbformat_minor": 2
}
